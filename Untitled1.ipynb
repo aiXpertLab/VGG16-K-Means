{
 "cells": [
  {
   "cell_type": "code",
   "execution_count": null,
   "id": "8f199390-77b3-4ea7-9e3f-be56279e6b6d",
   "metadata": {},
   "outputs": [],
   "source": [
    "from urllib import request\n"
   ]
  }
 ],
 "metadata": {
  "kernelspec": {
   "display_name": "Python 3 (ipykernel)",
   "language": "python",
   "name": "python3"
  },
  "language_info": {
   "codemirror_mode": {
    "name": "ipython",
    "version": 3
   },
   "file_extension": ".py",
   "mimetype": "text/x-python",
   "name": "python",
   "nbconvert_exporter": "python",
   "pygments_lexer": "ipython3",
   "version": "3.11.5"
  }
 },
 "nbformat": 4,
 "nbformat_minor": 5
}
