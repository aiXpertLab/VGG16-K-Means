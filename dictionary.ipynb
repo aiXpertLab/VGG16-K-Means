{
 "cells": [
  {
   "cell_type": "code",
   "execution_count": 13,
   "id": "6ba46dc0",
   "metadata": {},
   "outputs": [],
   "source": [
    "mdict1 = {}\n",
    "mdict1['name']='Teresa'\n",
    "mdict1[1] = 'she is a girl'\n",
    "mdict2 = {'name':'teresa','age':15, 'email':'teresea@gov.com'}\n",
    "mdict1[1] = 'boy'"
   ]
  },
  {
   "cell_type": "code",
   "execution_count": 14,
   "id": "37d7783a",
   "metadata": {},
   "outputs": [
    {
     "name": "stdout",
     "output_type": "stream",
     "text": [
      "{'name': 'Teresa', 1: 'boy'}\n"
     ]
    }
   ],
   "source": [
    "print (mdict1)"
   ]
  },
  {
   "cell_type": "code",
   "execution_count": 15,
   "id": "f0019969",
   "metadata": {},
   "outputs": [
    {
     "name": "stdout",
     "output_type": "stream",
     "text": [
      "methods: ['__class__', '__class_getitem__', '__contains__', '__delattr__', '__delitem__', '__dir__', '__doc__', '__eq__', '__format__', '__ge__', '__getattribute__', '__getitem__', '__getstate__', '__gt__', '__hash__', '__init__', '__init_subclass__', '__ior__', '__iter__', '__le__', '__len__', '__lt__', '__ne__', '__new__', '__or__', '__reduce__', '__reduce_ex__', '__repr__', '__reversed__', '__ror__', '__setattr__', '__setitem__', '__sizeof__', '__str__', '__subclasshook__', 'clear', 'copy', 'fromkeys', 'get', 'items', 'keys', 'pop', 'popitem', 'setdefault', 'update', 'values']\n"
     ]
    }
   ],
   "source": [
    "methods = dir(dict)\n",
    "print('methods:',methods)"
   ]
  },
  {
   "cell_type": "code",
   "execution_count": 16,
   "id": "87a3e272",
   "metadata": {},
   "outputs": [
    {
     "name": "stdout",
     "output_type": "stream",
     "text": [
      "{'Author': 'Python当打之年', 'age': 99, 'sex': '男'}\n",
      "{}\n"
     ]
    }
   ],
   "source": [
    "list1 = ['Author', 'age', 'sex']\n",
    "list2 = ['Python当打之年', 99, '男']\n",
    "dic1 = dict(zip(list1, list2))\n",
    "print(dic1)\n",
    "dic1.clear()\n",
    "print(dic1)"
   ]
  },
  {
   "cell_type": "code",
   "execution_count": 17,
   "id": "8ae7ab4f",
   "metadata": {},
   "outputs": [
    {
     "name": "stdout",
     "output_type": "stream",
     "text": [
      "{'Author': 'Python当打之年', 'age': 99, 'sex': '男'}\n",
      "['Author', 'age', 'sex']\n",
      "{'Author': 'Python当打之年', 'age': 18, 'sex': '男'}\n",
      "{'Author': 'Python当打之年', 'age': 18, 'sex': '男'}\n",
      "{'Author': 'Python当打之年', 'age': 99, 'sex': '男'}\n"
     ]
    }
   ],
   "source": [
    "list1 = ['Author', 'age', 'sex']\n",
    "list2 = ['Python当打之年', 99, '男']\n",
    "dic1 = dict(zip(list1, list2))\n",
    "print(dic1)\n",
    "\n",
    "dic2 = dic1 # 浅拷贝: 引用对象\n",
    "dic3 = dic1.copy() # 浅拷贝：深拷贝父对象（一级目录），子对象（二级目录）不拷贝，还是引用\n",
    "dic1['age'] = 18\n",
    "print(list1)\n",
    "print(dic1)\n",
    "print(dic2)\n",
    "print(dic3)"
   ]
  },
  {
   "cell_type": "code",
   "execution_count": null,
   "id": "9484065f",
   "metadata": {},
   "outputs": [],
   "source": []
  }
 ],
 "metadata": {
  "kernelspec": {
   "display_name": "Python 3 (ipykernel)",
   "language": "python",
   "name": "python3"
  },
  "language_info": {
   "codemirror_mode": {
    "name": "ipython",
    "version": 3
   },
   "file_extension": ".py",
   "mimetype": "text/x-python",
   "name": "python",
   "nbconvert_exporter": "python",
   "pygments_lexer": "ipython3",
   "version": "3.11.5"
  }
 },
 "nbformat": 4,
 "nbformat_minor": 5
}
