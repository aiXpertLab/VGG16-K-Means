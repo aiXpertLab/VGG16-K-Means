{
 "cells": [
  {
   "cell_type": "code",
   "execution_count": 5,
   "id": "1afbeb28",
   "metadata": {},
   "outputs": [],
   "source": [
    "mdict1 = {}\n",
    "mdict1['name']='Teresa'\n",
    "mdict1[1] = 'she is a girl'\n",
    "mdict2 = {'name':'teresa','age':15, 'email':'teresea@gov.com'}\n",
    "mdict1[1] "
   ]
  },
  {
   "cell_type": "code",
   "execution_count": 12,
   "id": "50b0f8b6",
   "metadata": {},
   "outputs": [
    {
     "name": "stdout",
     "output_type": "stream",
     "text": [
      "{'name': 'Teresa', 1: 'she is a girl'}\n"
     ]
    }
   ],
   "source": [
    "print (mdict1)"
   ]
  }
 ],
 "metadata": {
  "kernelspec": {
   "display_name": "Python 3 (ipykernel)",
   "language": "python",
   "name": "python3"
  },
  "language_info": {
   "codemirror_mode": {
    "name": "ipython",
    "version": 3
   },
   "file_extension": ".py",
   "mimetype": "text/x-python",
   "name": "python",
   "nbconvert_exporter": "python",
   "pygments_lexer": "ipython3",
   "version": "3.11.5"
  }
 },
 "nbformat": 4,
 "nbformat_minor": 5
}
