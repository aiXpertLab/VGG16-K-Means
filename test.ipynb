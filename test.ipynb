{
 "cells": [
  {
   "cell_type": "code",
   "execution_count": 64,
   "id": "3d85a154",
   "metadata": {
    "scrolled": true
   },
   "outputs": [
    {
     "name": "stdout",
     "output_type": "stream",
     "text": [
      "[0, 1, 2, 3, 4]\n",
      "[3, 5, 7, 9, 11]\n",
      "5\n",
      "5\n",
      "6\n"
     ]
    }
   ],
   "source": [
    "list1 = list([0,1,2,3,4])\n",
    "list2 = list([3,5,7,9,11,])\n",
    "list3 = [1,3,4,5,6,9]\n",
    "print(list1)\n",
    "print(list2)\n",
    "print(len(list1))\n",
    "print(len(list2))\n",
    "print(len(list3))"
   ]
  },
  {
   "cell_type": "code",
   "execution_count": 47,
   "id": "4d34fe62",
   "metadata": {},
   "outputs": [],
   "source": [
    "list2 = ['html','css','xml']"
   ]
  },
  {
   "cell_type": "code",
   "execution_count": 55,
   "id": "0639c067",
   "metadata": {},
   "outputs": [
    {
     "ename": "TypeError",
     "evalue": "object of type 'types.GenericAlias' has no len()",
     "output_type": "error",
     "traceback": [
      "\u001b[0;31m---------------------------------------------------------------------------\u001b[0m",
      "\u001b[0;31mTypeError\u001b[0m                                 Traceback (most recent call last)",
      "Cell \u001b[0;32mIn[55], line 1\u001b[0m\n\u001b[0;32m----> 1\u001b[0m \u001b[38;5;28mprint\u001b[39m(\u001b[38;5;124m'\u001b[39m\u001b[38;5;124mlist has \u001b[39m\u001b[38;5;132;01m{0}\u001b[39;00m\u001b[38;5;124m elements\u001b[39m\u001b[38;5;124m'\u001b[39m\u001b[38;5;241m.\u001b[39mformat(\u001b[38;5;28mlen\u001b[39m(list1)))\n\u001b[1;32m      2\u001b[0m \u001b[38;5;28mprint\u001b[39m(list1\u001b[38;5;241m+\u001b[39mlist2)\n\u001b[1;32m      3\u001b[0m \u001b[38;5;28mprint\u001b[39m(list1\u001b[38;5;241m*\u001b[39m\u001b[38;5;241m2\u001b[39m)\n",
      "\u001b[0;31mTypeError\u001b[0m: object of type 'types.GenericAlias' has no len()"
     ]
    }
   ],
   "source": [
    "print('list has {0} elements'.format(len(list1)))\n",
    "print(list1+list2)\n",
    "print(list1*2)\n",
    "print(2 in list1)"
   ]
  },
  {
   "cell_type": "code",
   "execution_count": 42,
   "id": "ad12e5e1",
   "metadata": {},
   "outputs": [
    {
     "name": "stdout",
     "output_type": "stream",
     "text": [
      "['html', 'css3', 'xml', 'javascript']\n"
     ]
    }
   ],
   "source": [
    "list2[1]='css3'\n",
    "print(list2)"
   ]
  },
  {
   "cell_type": "code",
   "execution_count": 43,
   "id": "2f20bbec",
   "metadata": {},
   "outputs": [
    {
     "name": "stdout",
     "output_type": "stream",
     "text": [
      "['html', 'css3', 'javascript']\n"
     ]
    }
   ],
   "source": [
    "del list2[2]\n",
    "print(list2)"
   ]
  },
  {
   "cell_type": "code",
   "execution_count": 44,
   "id": "755fae88",
   "metadata": {},
   "outputs": [
    {
     "name": "stdout",
     "output_type": "stream",
     "text": [
      "['html', 'css3', 'javascript', 'Python']\n"
     ]
    }
   ],
   "source": [
    "list2.append('Python')\n",
    "print(list2)"
   ]
  }
 ],
 "metadata": {
  "kernelspec": {
   "display_name": "Python 3 (ipykernel)",
   "language": "python",
   "name": "python3"
  },
  "language_info": {
   "codemirror_mode": {
    "name": "ipython",
    "version": 3
   },
   "file_extension": ".py",
   "mimetype": "text/x-python",
   "name": "python",
   "nbconvert_exporter": "python",
   "pygments_lexer": "ipython3",
   "version": "3.11.5"
  }
 },
 "nbformat": 4,
 "nbformat_minor": 5
}
